{
  "nbformat": 4,
  "nbformat_minor": 0,
  "metadata": {
    "colab": {
      "provenance": [],
      "authorship_tag": "ABX9TyNoSS9m1Vfw8C+u1EVP8zNP",
      "include_colab_link": true
    },
    "kernelspec": {
      "name": "python3",
      "display_name": "Python 3"
    },
    "language_info": {
      "name": "python"
    }
  },
  "cells": [
    {
      "cell_type": "markdown",
      "metadata": {
        "id": "view-in-github",
        "colab_type": "text"
      },
      "source": [
        "<a href=\"https://colab.research.google.com/github/VikitoHextech/TAREAS-SIMULACION/blob/main/EficienciaMMC.ipynb\" target=\"_parent\"><img src=\"https://colab.research.google.com/assets/colab-badge.svg\" alt=\"Open In Colab\"/></a>"
      ]
    },
    {
      "cell_type": "markdown",
      "source": [
        "# Revision de eficiencia de Metodos de Monte Carlo"
      ],
      "metadata": {
        "id": "2ouQ975xVzjr"
      }
    },
    {
      "cell_type": "code",
      "execution_count": 4,
      "metadata": {
        "id": "5KkUINvtVuK_"
      },
      "outputs": [],
      "source": [
        "#Se importan las librerias necesarias para el codigo\n",
        "import numpy as np\n",
        "import matplotlib.pyplot as plt\n",
        "import random as rd\n",
        "import timeit as tt"
      ]
    },
    {
      "cell_type": "markdown",
      "source": [
        "01 - Definição de funções"
      ],
      "metadata": {
        "id": "-FrtbXlbWl_B"
      }
    },
    {
      "cell_type": "code",
      "source": [
        "#Definimos la funcion que utilizaremos en este caso\n",
        "def g(x):\n",
        "  return np.sqrt(np.arctan(x))\n",
        "g(1)"
      ],
      "metadata": {
        "colab": {
          "base_uri": "https://localhost:8080/"
        },
        "id": "lh9HQkQiWpAJ",
        "outputId": "49bb8b6c-e332-4239-c980-3a22f67115d1"
      },
      "execution_count": 5,
      "outputs": [
        {
          "output_type": "execute_result",
          "data": {
            "text/plain": [
              "np.float64(0.8862269254527579)"
            ]
          },
          "metadata": {},
          "execution_count": 5
        }
      ]
    },
    {
      "cell_type": "markdown",
      "source": [
        "02 - Método de aplicação 1 (Acierto y Error)\n"
      ],
      "metadata": {
        "id": "K54fuUJZW-km"
      }
    },
    {
      "cell_type": "code",
      "source": [
        "def metodoaye(N):\n",
        "    aciertos = 0\n",
        "    fallos = 0\n",
        "    start = tt.default_timer()  # Empieza el contador de tiempo\n",
        "    lista = []\n",
        "    for i in range(1, N+1):  # empezamos desde 1 para evitar división entre 0\n",
        "        x = rd.random()\n",
        "        y = rd.random()\n",
        "        if y <= g(x):\n",
        "            aciertos += 1\n",
        "        else:\n",
        "            fallos += 1 # guardamos la estimación parcial en cada paso\n",
        "        I = aciertos / i\n",
        "        lista.append(I)\n",
        "\n",
        "    end = tt.default_timer()\n",
        "    te1 = end - start\n",
        "\n",
        "    return np.mean(lista), np.var(lista), I, te1, lista"
      ],
      "metadata": {
        "id": "UddTh97XXMtE"
      },
      "execution_count": 15,
      "outputs": []
    },
    {
      "cell_type": "markdown",
      "source": [
        "Resultados del Metodo 1:"
      ],
      "metadata": {
        "id": "TjOgYyNHZ5QZ"
      }
    },
    {
      "cell_type": "code",
      "source": [
        "A = metodoaye(1500)\n",
        "print(\"El valor esperado es: \", A[0], \"\\nCon Varianza: \", A[1], \"\\nEl Valor estimado de la integral es: \", A[2], \"\\nEl tiempo de ejecucion es: \", A[3])"
      ],
      "metadata": {
        "colab": {
          "base_uri": "https://localhost:8080/"
        },
        "id": "oLa4zAPxYYKU",
        "outputId": "f314bda4-960d-4a4d-b884-691a5caa5192"
      },
      "execution_count": 17,
      "outputs": [
        {
          "output_type": "stream",
          "name": "stdout",
          "text": [
            "El valor esperado es:  0.6026673684270792 \n",
            "Con Varianza:  0.0004017800776816347 \n",
            "El Valor estimado de la integral es:  0.6073333333333333 \n",
            "El tiempo de ejecucion es:  0.006206515000030777\n"
          ]
        }
      ]
    },
    {
      "cell_type": "markdown",
      "source": [
        "03 - Método de aplicação 2 (Crudo)"
      ],
      "metadata": {
        "id": "OMmBkVrLZ-tt"
      }
    },
    {
      "cell_type": "code",
      "source": [
        "def crudo(N):\n",
        "  start = tt.default_timer() #Empieza el contador de tiempo\n",
        "  G = [] #Genera nuestra lista\n",
        "  for i in range(N):\n",
        "    u = rd.random()\n",
        "    G.append(g(u))\n",
        "  end = tt.default_timer()\n",
        "  te2 = end - start #Tiempo total\n",
        "  return np.mean(G), np.var(G), np.std(G), te2"
      ],
      "metadata": {
        "id": "gGnT1zxfZ-fW"
      },
      "execution_count": 18,
      "outputs": []
    },
    {
      "cell_type": "code",
      "source": [
        "e = crudo(1500)\n",
        "print(\"El valor estimado es:  \",e[0] , \"\\n La varianza: \", e[1], \"\\n La desviacion estandar:\", e[2], \"\\n El tiempo de ejecucion es: \", e[3]) #e[0] es la media e[1]"
      ],
      "metadata": {
        "colab": {
          "base_uri": "https://localhost:8080/"
        },
        "id": "JtRS-eWHaLzP",
        "outputId": "162ca9f4-63f9-492e-c5b6-bf1a01226bbc"
      },
      "execution_count": 19,
      "outputs": [
        {
          "output_type": "stream",
          "name": "stdout",
          "text": [
            "El valor estimado es:   0.6384241340743181 \n",
            " La varianza:  0.04021433291612696 \n",
            " La desviacion estandar: 0.20053511641636973 \n",
            " El tiempo de ejecucion es:  0.003174839999701362\n"
          ]
        }
      ]
    },
    {
      "cell_type": "markdown",
      "source": [
        "# Calculo de Epsilon para encontrar el metodo mas eficiente:\n"
      ],
      "metadata": {
        "id": "ndw2MlIm-DgF"
      }
    },
    {
      "cell_type": "code",
      "source": [
        "epsilon = A[3]*(A[1]) / e[3]*(e[1])\n",
        "if epsilon < 1:\n",
        "  print(\"El metodo 1 es mas eficiente\")\n",
        "else:\n",
        "  print(\"El metodo 2 es mas eficiente\")\n",
        "print(\"El error relativo porcentual es: \", epsilon)"
      ],
      "metadata": {
        "colab": {
          "base_uri": "https://localhost:8080/"
        },
        "id": "pmt4lRZN8ZCd",
        "outputId": "bd17f0a8-7a2e-46e2-b1ea-4dea836f6487"
      },
      "execution_count": 21,
      "outputs": [
        {
          "output_type": "stream",
          "name": "stdout",
          "text": [
            "El metodo 1 es mas eficiente\n",
            "El error relativo porcentual es:  3.1586043804962545e-05\n"
          ]
        }
      ]
    }
  ]
}