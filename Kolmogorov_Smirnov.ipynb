{
  "nbformat": 4,
  "nbformat_minor": 0,
  "metadata": {
    "colab": {
      "provenance": [],
      "authorship_tag": "ABX9TyP4mOIig2pRfANqttOt6sTw",
      "include_colab_link": true
    },
    "kernelspec": {
      "name": "python3",
      "display_name": "Python 3"
    },
    "language_info": {
      "name": "python"
    }
  },
  "cells": [
    {
      "cell_type": "markdown",
      "metadata": {
        "id": "view-in-github",
        "colab_type": "text"
      },
      "source": [
        "<a href=\"https://colab.research.google.com/github/VikitoHextech/TAREAS-SIMULACION/blob/main/Kolmogorov_Smirnov.ipynb\" target=\"_parent\"><img src=\"https://colab.research.google.com/assets/colab-badge.svg\" alt=\"Open In Colab\"/></a>"
      ]
    },
    {
      "cell_type": "code",
      "execution_count": null,
      "metadata": {
        "colab": {
          "base_uri": "https://localhost:8080/",
          "height": 356
        },
        "id": "UUjGHg7nhORt",
        "outputId": "0a10d369-70d8-43cf-8b9c-3162905b5925"
      },
      "outputs": [
        {
          "output_type": "error",
          "ename": "TypeError",
          "evalue": "object of type 'numpy.float64' has no len()",
          "traceback": [
            "\u001b[0;31m---------------------------------------------------------------------------\u001b[0m",
            "\u001b[0;31mTypeError\u001b[0m                                 Traceback (most recent call last)",
            "\u001b[0;32m<ipython-input-8-035c9c4a4bf4>\u001b[0m in \u001b[0;36m<cell line: 0>\u001b[0;34m()\u001b[0m\n\u001b[1;32m     58\u001b[0m     \u001b[0;32mreturn\u001b[0m \u001b[0mks_stat\u001b[0m\u001b[0;34m,\u001b[0m \u001b[0mp_value\u001b[0m\u001b[0;34m\u001b[0m\u001b[0;34m\u001b[0m\u001b[0m\n\u001b[1;32m     59\u001b[0m \u001b[0;34m\u001b[0m\u001b[0m\n\u001b[0;32m---> 60\u001b[0;31m \u001b[0mks_stat\u001b[0m\u001b[0;34m,\u001b[0m \u001b[0mp_value\u001b[0m \u001b[0;34m=\u001b[0m \u001b[0mevaluacion_kolmogorov_smirnov\u001b[0m\u001b[0;34m(\u001b[0m\u001b[0mresultado\u001b[0m\u001b[0;34m)\u001b[0m\u001b[0;34m\u001b[0m\u001b[0;34m\u001b[0m\u001b[0m\n\u001b[0m\u001b[1;32m     61\u001b[0m \u001b[0;34m\u001b[0m\u001b[0m\n\u001b[1;32m     62\u001b[0m \u001b[0mprint\u001b[0m\u001b[0;34m(\u001b[0m\u001b[0;34m\"Serie de valores:\"\u001b[0m\u001b[0;34m)\u001b[0m\u001b[0;34m\u001b[0m\u001b[0;34m\u001b[0m\u001b[0m\n",
            "\u001b[0;32m<ipython-input-8-035c9c4a4bf4>\u001b[0m in \u001b[0;36mevaluacion_kolmogorov_smirnov\u001b[0;34m(resultado)\u001b[0m\n\u001b[1;32m     54\u001b[0m \u001b[0;32mdef\u001b[0m \u001b[0mevaluacion_kolmogorov_smirnov\u001b[0m\u001b[0;34m(\u001b[0m\u001b[0mresultado\u001b[0m\u001b[0;34m)\u001b[0m\u001b[0;34m:\u001b[0m\u001b[0;34m\u001b[0m\u001b[0;34m\u001b[0m\u001b[0m\n\u001b[1;32m     55\u001b[0m     \u001b[0mcdf_empirica\u001b[0m \u001b[0;34m=\u001b[0m \u001b[0;32mlambda\u001b[0m \u001b[0mx\u001b[0m\u001b[0;34m:\u001b[0m \u001b[0mnp\u001b[0m\u001b[0;34m.\u001b[0m\u001b[0mmean\u001b[0m\u001b[0;34m(\u001b[0m\u001b[0mresultado\u001b[0m \u001b[0;34m<=\u001b[0m \u001b[0mnp\u001b[0m\u001b[0;34m.\u001b[0m\u001b[0marray\u001b[0m\u001b[0;34m(\u001b[0m\u001b[0mx\u001b[0m\u001b[0;34m)\u001b[0m\u001b[0;34m)\u001b[0m\u001b[0;34m\u001b[0m\u001b[0;34m\u001b[0m\u001b[0m\n\u001b[0;32m---> 56\u001b[0;31m     \u001b[0mks_stat\u001b[0m \u001b[0;34m=\u001b[0m \u001b[0mks_1samp\u001b[0m\u001b[0;34m(\u001b[0m\u001b[0mresultado\u001b[0m\u001b[0;34m,\u001b[0m \u001b[0mcdf_empirica\u001b[0m\u001b[0;34m)\u001b[0m\u001b[0;34m\u001b[0m\u001b[0;34m\u001b[0m\u001b[0m\n\u001b[0m\u001b[1;32m     57\u001b[0m     \u001b[0mp_value\u001b[0m \u001b[0;34m=\u001b[0m \u001b[0mks_1samp\u001b[0m\u001b[0;34m(\u001b[0m\u001b[0mresultado\u001b[0m\u001b[0;34m,\u001b[0m \u001b[0mcdf_empirica\u001b[0m\u001b[0;34m)\u001b[0m\u001b[0;34m\u001b[0m\u001b[0;34m\u001b[0m\u001b[0m\n\u001b[1;32m     58\u001b[0m     \u001b[0;32mreturn\u001b[0m \u001b[0mks_stat\u001b[0m\u001b[0;34m,\u001b[0m \u001b[0mp_value\u001b[0m\u001b[0;34m\u001b[0m\u001b[0;34m\u001b[0m\u001b[0m\n",
            "\u001b[0;32m/usr/local/lib/python3.11/dist-packages/scipy/stats/_axis_nan_policy.py\u001b[0m in \u001b[0;36maxis_nan_policy_wrapper\u001b[0;34m(***failed resolving arguments***)\u001b[0m\n\u001b[1;32m    571\u001b[0m                     \u001b[0;32mreturn\u001b[0m \u001b[0mtuple_to_result\u001b[0m\u001b[0;34m(\u001b[0m\u001b[0;34m*\u001b[0m\u001b[0mres\u001b[0m\u001b[0;34m)\u001b[0m\u001b[0;34m\u001b[0m\u001b[0;34m\u001b[0m\u001b[0m\n\u001b[1;32m    572\u001b[0m \u001b[0;34m\u001b[0m\u001b[0m\n\u001b[0;32m--> 573\u001b[0;31m                 \u001b[0mres\u001b[0m \u001b[0;34m=\u001b[0m \u001b[0mhypotest_fun_out\u001b[0m\u001b[0;34m(\u001b[0m\u001b[0;34m*\u001b[0m\u001b[0msamples\u001b[0m\u001b[0;34m,\u001b[0m \u001b[0;34m**\u001b[0m\u001b[0mkwds\u001b[0m\u001b[0;34m)\u001b[0m\u001b[0;34m\u001b[0m\u001b[0;34m\u001b[0m\u001b[0m\n\u001b[0m\u001b[1;32m    574\u001b[0m                 \u001b[0mres\u001b[0m \u001b[0;34m=\u001b[0m \u001b[0mresult_to_tuple\u001b[0m\u001b[0;34m(\u001b[0m\u001b[0mres\u001b[0m\u001b[0;34m)\u001b[0m\u001b[0;34m\u001b[0m\u001b[0;34m\u001b[0m\u001b[0m\n\u001b[1;32m    575\u001b[0m                 \u001b[0mres\u001b[0m \u001b[0;34m=\u001b[0m \u001b[0m_add_reduced_axes\u001b[0m\u001b[0;34m(\u001b[0m\u001b[0mres\u001b[0m\u001b[0;34m,\u001b[0m \u001b[0mreduced_axes\u001b[0m\u001b[0;34m,\u001b[0m \u001b[0mkeepdims\u001b[0m\u001b[0;34m)\u001b[0m\u001b[0;34m\u001b[0m\u001b[0;34m\u001b[0m\u001b[0m\n",
            "\u001b[0;32m/usr/local/lib/python3.11/dist-packages/scipy/_lib/_util.py\u001b[0m in \u001b[0;36mwrapper\u001b[0;34m(*args, **kwargs)\u001b[0m\n\u001b[1;32m    796\u001b[0m                     \u001b[0;32mraise\u001b[0m \u001b[0mTypeError\u001b[0m\u001b[0;34m(\u001b[0m\u001b[0mmessage\u001b[0m\u001b[0;34m)\u001b[0m\u001b[0;34m\u001b[0m\u001b[0;34m\u001b[0m\u001b[0m\n\u001b[1;32m    797\u001b[0m                 \u001b[0mkwargs\u001b[0m\u001b[0;34m[\u001b[0m\u001b[0mnew_name\u001b[0m\u001b[0;34m]\u001b[0m \u001b[0;34m=\u001b[0m \u001b[0mkwargs\u001b[0m\u001b[0;34m.\u001b[0m\u001b[0mpop\u001b[0m\u001b[0;34m(\u001b[0m\u001b[0mold_name\u001b[0m\u001b[0;34m)\u001b[0m\u001b[0;34m\u001b[0m\u001b[0;34m\u001b[0m\u001b[0m\n\u001b[0;32m--> 798\u001b[0;31m             \u001b[0;32mreturn\u001b[0m \u001b[0mfun\u001b[0m\u001b[0;34m(\u001b[0m\u001b[0;34m*\u001b[0m\u001b[0margs\u001b[0m\u001b[0;34m,\u001b[0m \u001b[0;34m**\u001b[0m\u001b[0mkwargs\u001b[0m\u001b[0;34m)\u001b[0m\u001b[0;34m\u001b[0m\u001b[0;34m\u001b[0m\u001b[0m\n\u001b[0m\u001b[1;32m    799\u001b[0m         \u001b[0;32mreturn\u001b[0m \u001b[0mwrapper\u001b[0m\u001b[0;34m\u001b[0m\u001b[0;34m\u001b[0m\u001b[0m\n\u001b[1;32m    800\u001b[0m     \u001b[0;32mreturn\u001b[0m \u001b[0mdecorator\u001b[0m\u001b[0;34m\u001b[0m\u001b[0;34m\u001b[0m\u001b[0m\n",
            "\u001b[0;32m/usr/local/lib/python3.11/dist-packages/scipy/stats/_stats_py.py\u001b[0m in \u001b[0;36mks_1samp\u001b[0;34m(x, cdf, args, alternative, method)\u001b[0m\n\u001b[1;32m   8070\u001b[0m \u001b[0;34m\u001b[0m\u001b[0m\n\u001b[1;32m   8071\u001b[0m     \u001b[0;31m# alternative == 'two-sided':\u001b[0m\u001b[0;34m\u001b[0m\u001b[0;34m\u001b[0m\u001b[0m\n\u001b[0;32m-> 8072\u001b[0;31m     \u001b[0mDplus\u001b[0m\u001b[0;34m,\u001b[0m \u001b[0mdplus_location\u001b[0m \u001b[0;34m=\u001b[0m \u001b[0m_compute_dplus\u001b[0m\u001b[0;34m(\u001b[0m\u001b[0mcdfvals\u001b[0m\u001b[0;34m,\u001b[0m \u001b[0mx\u001b[0m\u001b[0;34m)\u001b[0m\u001b[0;34m\u001b[0m\u001b[0;34m\u001b[0m\u001b[0m\n\u001b[0m\u001b[1;32m   8073\u001b[0m     \u001b[0mDminus\u001b[0m\u001b[0;34m,\u001b[0m \u001b[0mdminus_location\u001b[0m \u001b[0;34m=\u001b[0m \u001b[0m_compute_dminus\u001b[0m\u001b[0;34m(\u001b[0m\u001b[0mcdfvals\u001b[0m\u001b[0;34m,\u001b[0m \u001b[0mx\u001b[0m\u001b[0;34m)\u001b[0m\u001b[0;34m\u001b[0m\u001b[0;34m\u001b[0m\u001b[0m\n\u001b[1;32m   8074\u001b[0m     \u001b[0;32mif\u001b[0m \u001b[0mDplus\u001b[0m \u001b[0;34m>\u001b[0m \u001b[0mDminus\u001b[0m\u001b[0;34m:\u001b[0m\u001b[0;34m\u001b[0m\u001b[0;34m\u001b[0m\u001b[0m\n",
            "\u001b[0;32m/usr/local/lib/python3.11/dist-packages/scipy/stats/_stats_py.py\u001b[0m in \u001b[0;36m_compute_dplus\u001b[0;34m(cdfvals, x)\u001b[0m\n\u001b[1;32m   7873\u001b[0m \u001b[0;34m\u001b[0m\u001b[0m\n\u001b[1;32m   7874\u001b[0m     \"\"\"\n\u001b[0;32m-> 7875\u001b[0;31m     \u001b[0mn\u001b[0m \u001b[0;34m=\u001b[0m \u001b[0mlen\u001b[0m\u001b[0;34m(\u001b[0m\u001b[0mcdfvals\u001b[0m\u001b[0;34m)\u001b[0m\u001b[0;34m\u001b[0m\u001b[0;34m\u001b[0m\u001b[0m\n\u001b[0m\u001b[1;32m   7876\u001b[0m     \u001b[0mdplus\u001b[0m \u001b[0;34m=\u001b[0m \u001b[0;34m(\u001b[0m\u001b[0mnp\u001b[0m\u001b[0;34m.\u001b[0m\u001b[0marange\u001b[0m\u001b[0;34m(\u001b[0m\u001b[0;36m1.0\u001b[0m\u001b[0;34m,\u001b[0m \u001b[0mn\u001b[0m \u001b[0;34m+\u001b[0m \u001b[0;36m1\u001b[0m\u001b[0;34m)\u001b[0m \u001b[0;34m/\u001b[0m \u001b[0mn\u001b[0m \u001b[0;34m-\u001b[0m \u001b[0mcdfvals\u001b[0m\u001b[0;34m)\u001b[0m\u001b[0;34m\u001b[0m\u001b[0;34m\u001b[0m\u001b[0m\n\u001b[1;32m   7877\u001b[0m     \u001b[0mamax\u001b[0m \u001b[0;34m=\u001b[0m \u001b[0mdplus\u001b[0m\u001b[0;34m.\u001b[0m\u001b[0margmax\u001b[0m\u001b[0;34m(\u001b[0m\u001b[0;34m)\u001b[0m\u001b[0;34m\u001b[0m\u001b[0;34m\u001b[0m\u001b[0m\n",
            "\u001b[0;31mTypeError\u001b[0m: object of type 'numpy.float64' has no len()"
          ]
        }
      ],
      "source": [
        "import pandas as pd\n",
        "import numpy as np\n",
        "from scipy.stats import ks_1samp\n",
        "\n",
        "S = pd.Series([0.048, 0.926, 0.368, 0.787, 0.298,\n",
        "               0.591, 0.007, 0.437, 0.594, 0.199,\n",
        "               0.478, 0.551, 0.178, 0.086, 0.157,\n",
        "               0.166, 0.362, 0.411, 0.951, 0.401,\n",
        "               0.932, 0.533, 0.545, 0.772, 0.631])\n",
        "\n",
        "def Revision(S):\n",
        "    resultado = []\n",
        "    for i in range(1, len(S)):\n",
        "        if S.iloc[i] > S.iloc[i - 1]:\n",
        "            resultado.append(1)\n",
        "        else:\n",
        "            resultado.append(0)\n",
        "    return np.array(resultado)\n",
        "\n",
        "resultado = Revision(S)\n",
        "\n",
        "def detectar_agrupaciones(resultado):\n",
        "    grupos = []\n",
        "    if len(resultado) == 0:\n",
        "        return grupos\n",
        "\n",
        "    actual = resultado[0]\n",
        "    contador = 1\n",
        "\n",
        "    for i in range(1, len(resultado)):\n",
        "        if resultado[i] == actual:\n",
        "            contador += 1\n",
        "        else:\n",
        "            grupos.append((actual, contador))\n",
        "            actual = resultado[i]\n",
        "            contador = 1\n",
        "    grupos.append((actual, contador))\n",
        "\n",
        "    return [(valor, cantidad) for valor, cantidad in grupos if valor in [0, 1]]\n",
        "\n",
        "agrupaciones = detectar_agrupaciones(resultado)\n",
        "\n",
        "def calcular_estadisticos(agrupaciones, n):\n",
        "    C_0 = len(agrupaciones)\n",
        "    mu_c = (2 * n - 1) / 3\n",
        "    sigma_c2 = (16 * n - 29) / 90\n",
        "    sigma_c = np.sqrt(sigma_c2)\n",
        "    Z_0 = (C_0 - mu_c) / sigma_c\n",
        "\n",
        "    return C_0, mu_c, sigma_c2, Z_0\n",
        "\n",
        "C_0, mu_c, sigma_c2, Z_0 = calcular_estadisticos(agrupaciones, len(S))\n",
        "\n",
        "def evaluacion_kolmogorov_smirnov(resultado):\n",
        "    cdf_empirica = lambda x: np.mean(resultado <= np.array(x))\n",
        "    ks_stat, p_value = ks_1samp(resultado, cdf_empirica)\n",
        "    return ks_stat, p_value\n",
        "\n",
        "ks_stat, p_value = evaluacion_kolmogorov_smirnov(resultado)\n",
        "\n",
        "print(\"Serie de valores:\")\n",
        "print(S)\n",
        "print(\"\\nSecuencia obtenida de 0s y 1s:\")\n",
        "print(resultado)\n",
        "print(\"\\nAgrupaciones de 0s y 1s:\")\n",
        "print(agrupaciones)\n",
        "print(\"\\nEstadísticos calculados:\")\n",
        "print(f\"C_0: {C_0}, mu_c: {mu_c:.4f}, sigma_c^2: {sigma_c2:.4f}, Z_0: {Z_0:.4f}\")\n",
        "print(\"\\nEvaluación de Kolmogorov-Smirnov:\")\n",
        "print(f\"-value: {p_value:.4f}\")\n",
        "print(f\"KS Statistic: {ks_stat:.4f}\")\n"
      ]
    }
  ]
}