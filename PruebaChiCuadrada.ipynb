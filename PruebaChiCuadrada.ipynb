{
  "nbformat": 4,
  "nbformat_minor": 0,
  "metadata": {
    "colab": {
      "provenance": [],
      "include_colab_link": true
    },
    "kernelspec": {
      "name": "python3",
      "display_name": "Python 3"
    },
    "language_info": {
      "name": "python"
    }
  },
  "cells": [
    {
      "cell_type": "markdown",
      "metadata": {
        "id": "view-in-github",
        "colab_type": "text"
      },
      "source": [
        "<a href=\"https://colab.research.google.com/github/VikitoHextech/TAREAS-SIMULACION/blob/main/PruebaChiCuadrada.ipynb\" target=\"_parent\"><img src=\"https://colab.research.google.com/assets/colab-badge.svg\" alt=\"Open In Colab\"/></a>"
      ]
    },
    {
      "cell_type": "code",
      "execution_count": 10,
      "metadata": {
        "colab": {
          "base_uri": "https://localhost:8080/"
        },
        "id": "xuZu2K4WhmYr",
        "outputId": "52dd83fe-6718-46c2-b80a-f53aa56af9b0",
        "collapsed": true
      },
      "outputs": [
        {
          "output_type": "stream",
          "name": "stdout",
          "text": [
            "Serie de valores:\n",
            "0     0.048\n",
            "1     0.926\n",
            "2     0.368\n",
            "3     0.787\n",
            "4     0.298\n",
            "5     0.591\n",
            "6     0.007\n",
            "7     0.437\n",
            "8     0.594\n",
            "9     0.199\n",
            "10    0.478\n",
            "11    0.551\n",
            "12    0.178\n",
            "13    0.086\n",
            "14    0.157\n",
            "15    0.166\n",
            "16    0.362\n",
            "17    0.411\n",
            "18    0.951\n",
            "19    0.401\n",
            "20    0.932\n",
            "21    0.533\n",
            "22    0.545\n",
            "23    0.772\n",
            "24    0.631\n",
            "dtype: float64\n",
            "\n",
            "Secuencia obtenida de 0s y 1s:\n",
            "[1, 0, 1, 0, 1, 0, 1, 1, 0, 1, 1, 0, 0, 1, 1, 1, 1, 1, 0, 1, 0, 1, 1, 0]\n",
            "\n",
            "Agrupaciones de 0s y 1s:\n",
            "[(1, 1), (0, 1), (1, 1), (0, 1), (1, 1), (0, 1), (1, 2), (0, 1), (1, 2), (0, 2), (1, 5), (0, 1), (1, 1), (0, 1), (1, 2), (0, 1)]\n",
            "\n",
            "Estadísticos calculados:\n",
            "C_0: 16, mu_c: 16.3333, sigma_c^2: 4.1222, Z_0: -0.1642\n",
            "\n",
            "Evaluación de Chi-cuadrado:\n",
            "Chi^2: 1.5000, p-value: 0.2207\n"
          ]
        }
      ],
      "source": [
        "import pandas as pd\n",
        "import numpy as np\n",
        "from scipy.stats import chi2\n",
        "\n",
        "S= pd.Series([0.048, 0.926, 0.368, 0.787, 0.298,\n",
        "              0.591, 0.007, 0.437, 0.594, 0.199,\n",
        "              0.478, 0.551, 0.178, 0.086, 0.157,\n",
        "              0.166, 0.362, 0.411, 0.951, 0.401,\n",
        "              0.932, 0.533, 0.545, 0.772, 0.631])\n",
        "\n",
        "def Revision(S):\n",
        "    resultado = []\n",
        "    for i in range(1, len(S)):\n",
        "        if S.iloc[i] > S.iloc[i - 1]:\n",
        "            resultado.append(1)\n",
        "        else:\n",
        "            resultado.append(0)\n",
        "    return resultado\n",
        "\n",
        "resultado = Revision(S)\n",
        "\n",
        "def detectar_agrupaciones(resultado):\n",
        "    grupos = []\n",
        "    if not resultado:\n",
        "        return grupos\n",
        "\n",
        "    actual = resultado[0]\n",
        "    contador = 1\n",
        "\n",
        "    for i in range(1, len(resultado)):\n",
        "        if resultado[i] == actual:\n",
        "            contador += 1\n",
        "        else:\n",
        "            grupos.append((actual, contador))\n",
        "            actual = resultado[i]\n",
        "            contador = 1\n",
        "    grupos.append((actual, contador))\n",
        "\n",
        "    return grupos\n",
        "\n",
        "agrupaciones = detectar_agrupaciones(resultado)\n",
        "\n",
        "def calcular_estadisticos(agrupaciones, n):\n",
        "    C_0 = len(agrupaciones)  # Número total de grupos\n",
        "    mu_c = (2 * n - 1) / 3  # Valor esperado\n",
        "    sigma_c2 = (16 * n - 29) / 90  # Varianza\n",
        "    sigma_c = np.sqrt(sigma_c2)  # Desviación estándar\n",
        "    Z_0 = (C_0 - mu_c) / sigma_c  # Estadístico Z_0\n",
        "\n",
        "    return C_0, mu_c, sigma_c2, Z_0\n",
        "\n",
        "C_0, mu_c, sigma_c2, Z_0 = calcular_estadisticos(agrupaciones, len(S))\n",
        "\n",
        "def evaluacion_chi_cuadrada(resultado):\n",
        "    frec_0 = resultado.count(0)\n",
        "    frec_1 = resultado.count(1)\n",
        "    total = len(resultado)\n",
        "\n",
        "    esp_0 = total / 2\n",
        "    esp_1 = total / 2\n",
        "\n",
        "    chi2_stat = ((frec_0 - esp_0) ** 2 / esp_0) + ((frec_1 - esp_1) ** 2 / esp_1)\n",
        "    p_value = 1 - chi2.cdf(chi2_stat, df=1)\n",
        "\n",
        "    return chi2_stat, p_value\n",
        "\n",
        "chi2_stat, p_value = evaluacion_chi_cuadrada(resultado)\n",
        "\n",
        "print(\"Serie de valores:\")\n",
        "print(S)\n",
        "print(\"\\nSecuencia obtenida de 0s y 1s:\")\n",
        "print(resultado)\n",
        "print(\"\\nAgrupaciones de 0s y 1s:\")\n",
        "print(agrupaciones)\n",
        "print(\"\\nEstadísticos calculados:\")\n",
        "print(f\"C_0: {C_0}, mu_c: {mu_c:.4f}, sigma_c^2: {sigma_c2:.4f}, Z_0: {Z_0:.4f}\")\n",
        "print(\"\\nEvaluación de Chi-cuadrado:\")\n",
        "print(f\"Chi^2: {chi2_stat:.4f}, p-value: {p_value:.4f}\")\n",
        "\n"
      ]
    }
  ]
}