{
  "nbformat": 4,
  "nbformat_minor": 0,
  "metadata": {
    "colab": {
      "provenance": [],
      "authorship_tag": "ABX9TyNG0R7m95bnRfzlyqHZRvN3",
      "include_colab_link": true
    },
    "kernelspec": {
      "name": "python3",
      "display_name": "Python 3"
    },
    "language_info": {
      "name": "python"
    }
  },
  "cells": [
    {
      "cell_type": "markdown",
      "metadata": {
        "id": "view-in-github",
        "colab_type": "text"
      },
      "source": [
        "<a href=\"https://colab.research.google.com/github/VikitoHextech/TAREAS-SIMULACION/blob/main/Prueba.ipynb\" target=\"_parent\"><img src=\"https://colab.research.google.com/assets/colab-badge.svg\" alt=\"Open In Colab\"/></a>"
      ]
    },
    {
      "cell_type": "code",
      "execution_count": 23,
      "metadata": {
        "colab": {
          "base_uri": "https://localhost:8080/"
        },
        "id": "xuZu2K4WhmYr",
        "outputId": "1374dfc8-a611-4e63-bdff-5dd5b64abf51"
      },
      "outputs": [
        {
          "output_type": "stream",
          "name": "stdout",
          "text": [
            "       0      1      2      3      4\n",
            "0  0.048  0.926  0.368  0.787  0.298\n",
            "1  0.591  0.007  0.437  0.594  0.199\n",
            "2  0.478  0.551  0.178  0.086  0.157\n",
            "3  0.166  0.362  0.411  0.951  0.401\n",
            "4  0.932  0.533  0.545  0.772  0.631\n",
            "La secuencia obtenida es:\n",
            "[1, 0, 1, 0, 1, 0, 1, 1, 0, 1, 1, 0, 0, 1, 1, 1, 1, 1, 0, 1, 0, 1, 1, 0]\n"
          ]
        }
      ],
      "source": [
        "import pandas as pd\n",
        "import numpy as np\n",
        "\n",
        "datos = [\n",
        "    [0.048,   0.926,   0.368,   0.787,   0.298],\n",
        "    [0.591,   0.007,   0.437,   0.594,   0.199],\n",
        "    [0.478,   0.551,   0.178,   0.086,   0.157],\n",
        "    [0.166,   0.362,   0.411,   0.951,   0.401],\n",
        "    [0.932,   0.533,   0.545,   0.772,   0.631]\n",
        "]\n",
        "\n",
        "df = pd.DataFrame(datos)\n",
        "print(df)\n",
        "\n",
        "S= pd.Series([0.048, 0.926, 0.368, 0.787, 0.298,\n",
        "              0.591, 0.007, 0.437, 0.594, 0.199,\n",
        "              0.478, 0.551, 0.178, 0.086, 0.157,\n",
        "              0.166, 0.362, 0.411, 0.951, 0.401,\n",
        "              0.932,0.533, 0.545, 0.772, 0.631])\n",
        "\n",
        "#def RevisionE(S):\n",
        "#  if S.iloc[1,1] < S.iloc[1,1+1]:\n",
        "#    S.iloc[1,1] = 0\n",
        "#  else:\n",
        "#      S.iloc[1,1] = 1\n",
        "\n",
        "#S.apply(RevisionE)\n",
        "\n",
        "\n",
        "def Revision(S):\n",
        "    resultado = []\n",
        "    for i in range(1, len(S)):\n",
        "        if S.iloc[i] > S.iloc[i - 1]:\n",
        "            resultado.append(1)\n",
        "        else:\n",
        "            resultado.append(0)\n",
        "    return resultado\n",
        "\n",
        "resultado = Revision(S)\n",
        "\n",
        "print(\"La secuencia obtenida es:\")\n",
        "print(resultado)\n",
        "\n",
        "def RevisionS(resultado):\n",
        "    for i in range(1, Len(S)):\n",
        "        if resultado.iloc[i] = resultado.iloc[i-1]:\n",
        "\n"
      ]
    }
  ]
}
