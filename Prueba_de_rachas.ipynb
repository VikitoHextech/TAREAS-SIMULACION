{
  "nbformat": 4,
  "nbformat_minor": 0,
  "metadata": {
    "colab": {
      "provenance": [],
      "authorship_tag": "ABX9TyNJLyxd9lX4vjQRA3Q32/v0",
      "include_colab_link": true
    },
    "kernelspec": {
      "name": "python3",
      "display_name": "Python 3"
    },
    "language_info": {
      "name": "python"
    }
  },
  "cells": [
    {
      "cell_type": "markdown",
      "metadata": {
        "id": "view-in-github",
        "colab_type": "text"
      },
      "source": [
        "<a href=\"https://colab.research.google.com/github/VikitoHextech/TAREAS-SIMULACION/blob/main/Prueba_de_rachas.ipynb\" target=\"_parent\"><img src=\"https://colab.research.google.com/assets/colab-badge.svg\" alt=\"Open In Colab\"/></a>"
      ]
    },
    {
      "cell_type": "code",
      "source": [
        "import pandas as pd\n",
        "import numpy as np\n",
        "\n",
        "resultado = [0.048, 0.926, 0.368, 0.787, 0.298,\n",
        "             0.591, 0.007, 0.437, 0.594, 0.199,\n",
        "             0.478, 0.551, 0.178, 0.086, 0.157,\n",
        "             0.166, 0.362, 0.411, 0.951, 0.401,\n",
        "             0.932, 0.533, 0.545, 0.772, 0.631]\n",
        "\n",
        "\n",
        "racha = []\n",
        "for i in range(1, len(resultado)):\n",
        "    if resultado[i] > resultado[i - 1]:\n",
        "        racha.append(\"0\")\n",
        "    else:\n",
        "        racha.append(\"1\")\n",
        "\n",
        "sec = \"\".join(racha)\n",
        "print(f\"Secuencia binaria generada: {sec}\")\n",
        "\n",
        "def contar_rachas(racha):\n",
        "    rachas = 1\n",
        "    for i in range(1, len(racha)):\n",
        "        if racha[i] != racha[i - 1]:\n",
        "            rachas += 1\n",
        "    return rachas\n",
        "\n",
        "num_rachas = contar_rachas(racha)\n",
        "print(f\"No. de rachas: {num_rachas}\")\n",
        "\n",
        "n1 = racha.count(\"0\")\n",
        "n2 = racha.count(\"1\")\n",
        "\n",
        "mu = ((2 * n1 * n2) / (n1 + n2)) + 1\n",
        "sigma2 = (2 * n1 * n2 * (2 * n1 * n2 - n1 - n2)) / (((n1 + n2) ** 2) * (n1 + n2 - 1))\n",
        "\n",
        "\n",
        "Z = (num_rachas - mu) / np.sqrt(sigma2)\n",
        "\n",
        "\n",
        "print(f\"ceros: {n1}, unos: {n2}\")\n",
        "print(f\"Media (mu): {mu:.4f}\")\n",
        "print(f\"Varianza (sigma²): {sigma2:.4f}\")\n",
        "print(f\"Estadístico Z: {Z:.4f}\")"
      ],
      "metadata": {
        "colab": {
          "base_uri": "https://localhost:8080/"
        },
        "id": "T7S1O4yUtFxr",
        "outputId": "0efa2780-092c-40ac-87eb-7704f0ff09ea"
      },
      "execution_count": 24,
      "outputs": [
        {
          "output_type": "stream",
          "name": "stdout",
          "text": [
            "Secuencia binaria generada: 010101001001100000101001\n",
            "No. de rachas: 16\n",
            "ceros: 15, unos: 9\n",
            "Media (mu): 12.2500\n",
            "Varianza (sigma²): 5.0136\n",
            "Estadístico Z: 1.6748\n"
          ]
        }
      ]
    }
  ]
}