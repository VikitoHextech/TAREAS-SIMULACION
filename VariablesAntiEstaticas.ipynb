{
  "nbformat": 4,
  "nbformat_minor": 0,
  "metadata": {
    "colab": {
      "provenance": [],
      "authorship_tag": "ABX9TyPSqDGKmtuEtrCIW3v9PV/u",
      "include_colab_link": true
    },
    "kernelspec": {
      "name": "python3",
      "display_name": "Python 3"
    },
    "language_info": {
      "name": "python"
    }
  },
  "cells": [
    {
      "cell_type": "markdown",
      "metadata": {
        "id": "view-in-github",
        "colab_type": "text"
      },
      "source": [
        "<a href=\"https://colab.research.google.com/github/VikitoHextech/TAREAS-SIMULACION/blob/main/VariablesAntiEstaticas.ipynb\" target=\"_parent\"><img src=\"https://colab.research.google.com/assets/colab-badge.svg\" alt=\"Open In Colab\"/></a>"
      ]
    },
    {
      "cell_type": "markdown",
      "source": [
        "# Revision de Variables Anti Estaticas\n"
      ],
      "metadata": {
        "id": "2ouQ975xVzjr"
      }
    },
    {
      "cell_type": "code",
      "execution_count": 14,
      "metadata": {
        "id": "5KkUINvtVuK_"
      },
      "outputs": [],
      "source": [
        "#Se importan las librerias necesarias para el codigo\n",
        "import numpy as np\n",
        "import matplotlib.pyplot as plt\n",
        "import random as rd\n",
        "import timeit as tt"
      ]
    },
    {
      "cell_type": "markdown",
      "source": [
        "01 - Definição de funções"
      ],
      "metadata": {
        "id": "-FrtbXlbWl_B"
      }
    },
    {
      "cell_type": "code",
      "source": [
        "#Definimos la funcion de prueba I\n",
        "def f(x):\n",
        "  return np.sqrt(np.arctan(x))\n",
        "f(1)"
      ],
      "metadata": {
        "colab": {
          "base_uri": "https://localhost:8080/"
        },
        "id": "lh9HQkQiWpAJ",
        "outputId": "5c465297-22f3-4977-8ed9-d27ba73633a1"
      },
      "execution_count": 32,
      "outputs": [
        {
          "output_type": "execute_result",
          "data": {
            "text/plain": [
              "np.float64(0.8862269254527579)"
            ]
          },
          "metadata": {},
          "execution_count": 32
        }
      ]
    },
    {
      "cell_type": "markdown",
      "source": [
        "02 - Método de aplicação (Crudo)"
      ],
      "metadata": {
        "id": "OMmBkVrLZ-tt"
      }
    },
    {
      "cell_type": "code",
      "source": [
        "def crudo(N): #Copia de la tarea anterior jeje\n",
        "    G = []\n",
        "    for i in range(N):\n",
        "        u = rd.random()\n",
        "        G.append(f(u))\n",
        "    return np.mean(G), np.var(G)/N, np.std(G)/np.sqrt(N)"
      ],
      "metadata": {
        "id": "gGnT1zxfZ-fW"
      },
      "execution_count": 33,
      "outputs": []
    },
    {
      "cell_type": "markdown",
      "source": [
        "03 - Metodo de Aplicacion (Variables Anti Estaticas)"
      ],
      "metadata": {
        "id": "0NZPN-bKjo3H"
      }
    },
    {
      "cell_type": "code",
      "source": [
        "def antitetico(N):\n",
        "    G = []\n",
        "    for i in range(N):\n",
        "        u = rd.random()\n",
        "        u_ant = 1 - u           # Variable antiestatica\n",
        "        G.append((f(u) + f(u_ant)) / 2)  # Promedio del par\n",
        "    return np.mean(G), np.var(G)/N, np.std(G)/np.sqrt(N)"
      ],
      "metadata": {
        "id": "j85PlhjajypJ"
      },
      "execution_count": 34,
      "outputs": []
    },
    {
      "cell_type": "markdown",
      "source": [
        "# Terminus\n",
        "\n"
      ],
      "metadata": {
        "id": "ndw2MlIm-DgF"
      }
    },
    {
      "cell_type": "code",
      "source": [
        "N = 100000\n",
        "\n",
        "I_crudo, var_crudo, std_crudo = crudo(N) #Importamos los datos de las funciones\n",
        "I_ant, var_ant, std_ant = antitetico(N) #Importamos los datos de las funciones\n",
        "\n",
        "print(\"MC Crudo:      \", I_crudo, \" Varianza:\", var_crudo, \" Std:\", std_crudo)\n",
        "print(\"MC Antitético: \", I_ant, \" Varianza:\", var_ant, \" Std:\", std_ant)\n",
        "\n",
        "reduccion = 100 * (var_crudo - var_ant) / var_crudo\n",
        "print(\"Reducción de varianza:\", reduccion, \"%\") #Estadistica de reduccion\n"
      ],
      "metadata": {
        "colab": {
          "base_uri": "https://localhost:8080/"
        },
        "id": "pmt4lRZN8ZCd",
        "outputId": "2b6b262f-da38-4f6a-907b-d2d4d67eded9"
      },
      "execution_count": 36,
      "outputs": [
        {
          "output_type": "stream",
          "name": "stdout",
          "text": [
            "MC Crudo:       0.6291153124446481  Varianza: 4.2240669630524697e-07  Std: 0.0006499282239641904\n",
            "MC Antitético:  0.6297041470893574  Varianza: 2.815744536986302e-08  Std: 0.00016780180383375805\n",
            "Reducción de varianza: 93.33404379803785 %\n"
          ]
        }
      ]
    }
  ]
}